{
 "cells": [
  {
   "cell_type": "markdown",
   "metadata": {},
   "source": [
    "Parser"
   ]
  },
  {
   "cell_type": "code",
   "execution_count": 357,
   "metadata": {},
   "outputs": [],
   "source": [
    "from bs4 import BeautifulSoup\n",
    "import requests"
   ]
  },
  {
   "cell_type": "code",
   "execution_count": 368,
   "metadata": {},
   "outputs": [],
   "source": [
    "class parser_recipe:\n",
    "    def __init__(self, url):\n",
    "        self.url = url\n",
    "    \n",
    "    def parse(self):\n",
    "        page = requests.get(self.url)\n",
    "\n",
    "        # get page of the user's recepy\n",
    "        soup = BeautifulSoup(page.text, \"html.parser\")\n",
    "\n",
    "        # find href for printing\n",
    "        allIngr = soup.find('a', class_='actionsNewPrint')\n",
    "        url = 'https://povar.ru' + allIngr.attrs['href']\n",
    "        page = requests.get(url)\n",
    "\n",
    "        self.soup = BeautifulSoup(new_page.text, \"html.parser\")\n",
    "    \n",
    "    def get_soup(self):\n",
    "        return self.soup"
   ]
  },
  {
   "cell_type": "code",
   "execution_count": 372,
   "metadata": {},
   "outputs": [],
   "source": [
    "def recipe(soup):\n",
    "    recipies = soup.findAll('div', class_ = 'recept_column')\n",
    "\n",
    "    recipe = []\n",
    "    for data in recipies:\n",
    "        if data.find('li') is not None:\n",
    "            recipe.append(data.text)\n",
    "    return recipe[0]"
   ]
  },
  {
   "cell_type": "code",
   "execution_count": 373,
   "metadata": {},
   "outputs": [
    {
     "name": "stdout",
     "output_type": "stream",
     "text": [
      "\n",
      "Приготовление:\n",
      "\n",
      "\n",
      "Мясо тщательно промоем и обсушим. Затем нарежем на небольшие кусочки, примерно по 4 см.\n",
      "Почистим морковку и нарежем тонкими, примерно по 0,5 см в толщину, полосками.\n",
      "Очистим лук, нарежем тонкими полукольцами или помельче.\n",
      "Лучше всего плов готовить, конечно же, в казане. Но можно в толстостенной кастрюле. Наливаем в казан или кастрюлю масло и разогреваем на сильном огне. Бросим в разогретое масло немного лука и обжарим его до темно-коричневого цвета. Затем убираем лук из казана.\n",
      "Выкладываем в разогретое масло мясо.\n",
      "Минуты через 3 перемешиваем и продолжаем обжаривать на сильном огне до любимой вами степени. Кто-то ведь любит слегка подрумяненное мясо, а кому-то по нраву сильно обжаренные кусочки.\n",
      "Мясо обжарилось, добавляем лук и перемешиваем. Обжариваем минут 5-7. Не забываем перемешивать, ведь готовим на большом огне!\n",
      "Теперь добавим полосочки моркови. Все перемешиваем и обжариваем. Готовим либо до подрумянивания моркови, либо до мягкости. Опять же, кому как нравится.\n",
      "А теперь добавим примерно полтора-два стакана горячей воды, чайную ложку соли и приправу для плова. Даем покипеть минут 15-20 под крышкой на среднем огне.\n",
      "Тщательно промываем под проточной водой рис, чтобы вымыть из него весь крахмал. Чтобы у вас гарантированно получился плов, а не каша, лучше возьмите пропаренный рис. Выкладываем промытый рис в казан.\n",
      "Разравниваем рис и доливаем горячей воды. Жидкость должна покрывать рис примерно на 2,5 см. Добавим соль. Готовим без крышки на среднем огне.\n",
      "Когда выкипит жидкость и рис окажется на поверхности, собираем его небольшой горкой. Делаем несколько дырок черенком ложки до дна казана или кастрюли. И плотно закрываем плов крышкой. Уменьшаем огонь до маленького и готовим еще минут 20.  Затем выключаем огонь, и пусть плов постоит еще минут 15.\n",
      "Раскладываем плов по тарелкам или выкладываем в одно большое блюдо. Приятного аппетита!\n",
      "\n",
      "\n",
      "\n"
     ]
    }
   ],
   "source": [
    "# recipe\n",
    "parser = parser_recipe('https://povar.ru/recipes/obychnyi_plov-46535.html')\n",
    "parser.parse()\n",
    "new_soup = parser.get_soup()\n",
    "recipe = recipe(new_soup)\n",
    "\n",
    "print(recipe)"
   ]
  },
  {
   "cell_type": "code",
   "execution_count": 377,
   "metadata": {},
   "outputs": [],
   "source": [
    "def ingred_units(soup):\n",
    "    # print ingredients and units\n",
    "    allIngr = soup.findAll('div', class_='ingredients')\n",
    "    ingrs = []\n",
    "    ingrs_size = []\n",
    "    for data in allIngr[0].findAll('p'):\n",
    "        ingr = ''\n",
    "        ingr_size = ''\n",
    "        found = False\n",
    "        for i in data.text:\n",
    "            if i == '\\n':\n",
    "                ingr_size = ingr_size + '\\n'\n",
    "                found = False\n",
    "            if found:\n",
    "                ingr_size = ingr_size + i\n",
    "            if not i == '—' and not found:\n",
    "                ingr = ingr + i\n",
    "            else:\n",
    "                found = True\n",
    "        ingrs.append(ingr.replace(u'\\xa0', u''))\n",
    "        ingrs_size.append(ingr_size.replace(u'\\xa0', u''))\n",
    "    return ingrs, ingrs_size"
   ]
  },
  {
   "cell_type": "code",
   "execution_count": 378,
   "metadata": {},
   "outputs": [],
   "source": [
    "ingrs, ingrs_size = ingred_units(new_soup)"
   ]
  },
  {
   "cell_type": "code",
   "execution_count": 387,
   "metadata": {},
   "outputs": [],
   "source": [
    "import re\n",
    "\n",
    "legal_chars = r'[0-9_,]'\n",
    "nums = []\n",
    "for i in ingrs_size:\n",
    "    n = [re.findall(legal_chars, x) for x in i.split()]\n",
    "    nums.append(n[0])"
   ]
  },
  {
   "cell_type": "code",
   "execution_count": 388,
   "metadata": {},
   "outputs": [],
   "source": [
    "def arr_of_tuples_of_ingrs(nums, ingrs_size):\n",
    "    new_list = []\n",
    "    for i in num:\n",
    "        new_num = ''\n",
    "        if len(i) > 0:\n",
    "            if len(i) == 1 and i[0] == ',':\n",
    "                continue\n",
    "            for j in i:\n",
    "                new_num += j\n",
    "        else:\n",
    "            continue\n",
    "        new_list.append(new_num)\n",
    "        \n",
    "    for i in range(len(new_list)):\n",
    "        ingrs_size[i] = ingrs_size[i].replace(new_list[i],'')\n",
    "        new_list[i] = float(new_list[i].replace(',','.'))\n",
    "    \n",
    "    return list(zip(ingrs,new_list,ingrs_size))"
   ]
  },
  {
   "cell_type": "code",
   "execution_count": 390,
   "metadata": {},
   "outputs": [
    {
     "name": "stdout",
     "output_type": "stream",
     "text": [
      "[('Мякоть свинины', 1.5, 'Килограмм'), ('Рис', 1.0, 'Килограмм(лучше пропаренный)'), ('Лук репчатый', 1.0, 'Килограмм'), ('Морковь', 1.0, 'Килограмм'), ('Масло подсолнечное рафинированное', 300.0, 'Миллилитр'), ('Приправа для плова', 2.0, 'Чайная ложка(по желанию - зира, барбарис, паприка)'), ('Соль', 2.0, 'Чайная ложка(без горки)'), ('Горячая вода', 1.5, 'Литр')]\n"
     ]
    }
   ],
   "source": [
    "arr_of_tuples = arr_of_tuples_of_ingrs(nums,ingrs_size)\n",
    "print(arr_of_tuples)"
   ]
  },
  {
   "cell_type": "markdown",
   "metadata": {},
   "source": [
    "Damerau-Levenshtein distance"
   ]
  },
  {
   "cell_type": "code",
   "execution_count": 332,
   "metadata": {},
   "outputs": [],
   "source": [
    "from pyxdameraulevenshtein import normalized_damerau_levenshtein_distance"
   ]
  },
  {
   "cell_type": "code",
   "execution_count": 391,
   "metadata": {},
   "outputs": [],
   "source": [
    "def find_typos(text, words=['Привет','Яблоко', 'Помидор']):\n",
    "\n",
    "    rate = 1.0\n",
    "    final_word = text\n",
    "    for word in words:\n",
    "        new_rate = normalized_damerau_levenshtein_distance(text, word)\n",
    "        if new_rate < rate:\n",
    "            final_word = word\n",
    "            rate = new_rate\n",
    "    if rate > 0.40:\n",
    "        return text\n",
    "    if rate == 0.0:\n",
    "        return\n",
    "    return f'Возможно, вы имели в виду \"{final_word}\". Да/нет.'"
   ]
  },
  {
   "cell_type": "code",
   "execution_count": 392,
   "metadata": {},
   "outputs": [
    {
     "name": "stdout",
     "output_type": "stream",
     "text": [
      "None\n",
      "Возможно, вы имели в виду \"Привет\". Да/нет.\n",
      "Возможно, вы имели в виду \"Привет\". Да/нет.\n",
      "Возможно, вы имели в виду \"Яблоко\". Да/нет.\n",
      "Првд\n"
     ]
    }
   ],
   "source": [
    "print(find_typos('Привет'))\n",
    "print(find_typos('Првет'))\n",
    "print(find_typos('Прывет'))\n",
    "print(find_typos('Яблко'))\n",
    "print(find_typos('Првд'))"
   ]
  },
  {
   "cell_type": "markdown",
   "metadata": {},
   "source": [
    "Recipe standartization."
   ]
  },
  {
   "cell_type": "code",
   "execution_count": 335,
   "metadata": {},
   "outputs": [],
   "source": [
    "dict_for_glass = {\n",
    "    'сахар'   : '200',\n",
    "    'крахмал' : '160',\n",
    "    'мука'    : '160',\n",
    "    'молоко'  : '250',\n",
    "    'мед'     : '415',\n",
    "    'масло'   : '225',\n",
    "    'вода'    : '200',\n",
    "    'сливки'  : '230',\n",
    "    'сметана' : '230',\n",
    "    'рис'     : '180',\n",
    "    'гречка'  : '165',\n",
    "    'манка'   : '160'\n",
    "}\n",
    "\n",
    "dict_for_tablespoon = {\n",
    "    'сахар'   : '25',\n",
    "    'крахмал' : '12',\n",
    "    'мука'    : '25',\n",
    "    'молоко'  : '20',\n",
    "    'мед'     : '30',\n",
    "    'масло'   : '17',\n",
    "    'желатин' : '10',\n",
    "    'сода'    : '8,5',\n",
    "    'томатная паста' : '24',\n",
    "    'соль'    : '30'\n",
    "    \n",
    "}\n",
    "\n",
    "dict_for_teaspoon = {\n",
    "    'сахар'   : '8',\n",
    "    'крахмал' : '6',\n",
    "    'мука'    : '8',\n",
    "    'молоко'  : '5',\n",
    "    'мед'     : '9',\n",
    "    'масло'   : '5',\n",
    "    'соль'    : '10'\n",
    "}\n",
    "\n",
    "dict_of_products = {\n",
    "    'стакан' : dict_for_glass,\n",
    "    'столовая ложка' : dict_for_tablespoon,\n",
    "    'чайная ложка' : dict_for_teaspoon\n",
    "}"
   ]
  },
  {
   "cell_type": "code",
   "execution_count": 398,
   "metadata": {},
   "outputs": [],
   "source": [
    "user_ingr = 'Мука'\n",
    "user_quantity = 2\n",
    "user_measure = 'стакан'\n",
    "user_list = [(user_ingr,user_quantity,user_measure)]"
   ]
  },
  {
   "cell_type": "code",
   "execution_count": 416,
   "metadata": {},
   "outputs": [],
   "source": [
    "def normalization(user_list):\n",
    "    found = False\n",
    "    for i in range(len(user_list)):\n",
    "        new_measure = 0\n",
    "        ingrt    = user_list[i][0].lower()\n",
    "        quantity = user_list[i][1]\n",
    "        measure  = user_list[i][2].lower()\n",
    "\n",
    "        if dict_of_products.get(measure):\n",
    "            if measure == 'чайная ложка':\n",
    "                meas = dict_of_products['чайная ложка'][ingrt]\n",
    "                new_measure = float(meas)*quantity\n",
    "\n",
    "            if measure == 'столовая ложка':\n",
    "                meas = dict_of_products['столовая ложка'][ingrt]\n",
    "                new_measure = float(meas)*quantity\n",
    "\n",
    "            if measure == 'стакан':\n",
    "                meas = dict_of_products['стакан'][ingrt]\n",
    "                new_measure = float(meas)*quantity\n",
    "            else:\n",
    "                continue\n",
    "            user_list[i] = (ingrt, new_measure,'граммы')"
   ]
  },
  {
   "cell_type": "code",
   "execution_count": 417,
   "metadata": {},
   "outputs": [],
   "source": [
    "normalization(user_list)"
   ]
  },
  {
   "cell_type": "code",
   "execution_count": 418,
   "metadata": {},
   "outputs": [
    {
     "data": {
      "text/plain": [
       "[('мука', 320.0, 'граммы')]"
      ]
     },
     "execution_count": 418,
     "metadata": {},
     "output_type": "execute_result"
    }
   ],
   "source": [
    "user_list"
   ]
  }
